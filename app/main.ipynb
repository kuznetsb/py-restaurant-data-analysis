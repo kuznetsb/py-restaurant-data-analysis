{
 "cells": [
  {
   "cell_type": "code",
   "execution_count": 76,
   "metadata": {
    "collapsed": true,
    "ExecuteTime": {
     "start_time": "2023-05-10T18:11:21.091683Z",
     "end_time": "2023-05-10T18:11:21.094336Z"
    }
   },
   "outputs": [],
   "source": [
    "import csv\n",
    "\n",
    "import pandas as pd\n",
    "import numpy as np\n",
    "import sqlite3\n",
    "from os import path\n",
    "import matplotlib.pyplot as plot"
   ]
  },
  {
   "cell_type": "markdown",
   "source": [
    "# Task 0\n",
    "Data extraction: get the data from 3 tables & combine it into single `.csv` file.\n",
    "After that read this file using pandas to create Dataframe.\n",
    "So it will be all joined data in 1 dataframe. Quick check - should be 74818 rows in it."
   ],
   "metadata": {
    "collapsed": false
   }
  },
  {
   "cell_type": "code",
   "execution_count": 102,
   "outputs": [],
   "source": [
    "db_path = path.join(\"..\", \"db.sqlite3\")\n",
    "connect = sqlite3.connect(db_path)\n",
    "db = connect.cursor()\n",
    "first_table = db.execute(\n",
    "    \"\"\"\n",
    "    SELECT restaurant_orderitem.id, restaurant_order.id AS order_id,restaurant_order.datetime AS order_datetime, restaurant_product.name AS product, restaurant_product.price AS product_price, restaurant_orderitem.quantity\n",
    "    FROM restaurant_orderitem\n",
    "    INNER JOIN restaurant_order ON restaurant_orderitem.order_id=restaurant_order.id\n",
    "    INNER JOIN restaurant_product ON restaurant_orderitem.product_id=restaurant_product.id\n",
    "    \"\"\"\n",
    ")\n",
    "result_rows = first_table.fetchall()\n",
    "with open(path.join(\"..\", \"orders.csv\"), \"w\") as f:\n",
    "    writer = csv.writer(f)\n",
    "    writer.writerow([\"id\", \"order_id\", \"order_datetime\", \"product\", \"product_price\", \"quantity\"])\n",
    "    writer.writerows(result_rows)\n",
    "\n",
    "db.close()\n",
    "\n",
    "df = pd.read_csv(path.join(\"..\", \"orders.csv\"), index_col=[0])\n",
    "df[\"order_datetime\"] = pd.to_datetime(df[\"order_datetime\"], format=\"%Y-%m-%d %H:%M:%S\")"
   ],
   "metadata": {
    "collapsed": false,
    "ExecuteTime": {
     "start_time": "2023-05-10T18:35:21.318651Z",
     "end_time": "2023-05-10T18:35:21.743968Z"
    }
   }
  },
  {
   "cell_type": "markdown",
   "source": [
    "# Task 1\n",
    "Get Top 10 most popular products in restaurant sold by Quantity.\n",
    "Count how many times each product was sold and create a pie chart with percentage of popularity (by quantity) for top 10 of them.\n",
    "\n",
    "Example:\n",
    "\n",
    "![pie chart](../demo/pie.png)"
   ],
   "metadata": {
    "collapsed": false
   }
  },
  {
   "cell_type": "code",
   "execution_count": null,
   "outputs": [],
   "source": [
    "most_popular_products = df.groupby(\"product\")[\"quantity\"].sum().sort_values(ascending=False)[:10]\n",
    "total = most_popular_products.sum()\n",
    "most_popular_products.plot.pie(autopct = lambda p: \"{:.1f}%({:.0f})\".format(p,(p/100)*total), figsize=(10, 8))"
   ],
   "metadata": {
    "collapsed": false,
    "ExecuteTime": {
     "start_time": "2023-05-10T18:35:25.553699Z",
     "end_time": "2023-05-10T18:35:25.779206Z"
    }
   }
  },
  {
   "cell_type": "markdown",
   "source": [
    "# Task 2\n",
    "Calculate `Item Price` (Product Price * Quantity) for each Order Item in dataframe.\n",
    "And Make the same Top 10 pie chart, but this time by `Item Price`. So this chart should describe not the most popular products by quantity, but which products (top 10) make the most money for restaurant. It should be also with percentage."
   ],
   "metadata": {
    "collapsed": false
   }
  },
  {
   "cell_type": "code",
   "execution_count": null,
   "outputs": [],
   "source": [
    "df[\"item_price\"] = df[\"product_price\"] * df[\"quantity\"]\n",
    "most_profit_products = df.groupby(\"product\")[\"item_price\"].sum().sort_values(ascending=False)[:10]\n",
    "total_profit = most_profit_products.sum()\n",
    "most_profit_products.plot.pie(autopct = lambda p: \"{:.1f}%({:.0f})\".format(p,(p/100)*total_profit), figsize=(10, 8))"
   ],
   "metadata": {
    "collapsed": false,
    "ExecuteTime": {
     "start_time": "2023-05-10T18:35:30.503781Z",
     "end_time": "2023-05-10T18:35:30.747978Z"
    }
   }
  },
  {
   "cell_type": "markdown",
   "source": [
    "# Task 3\n",
    "Calculate `Order Hour` based on `Order Datetime`, which will tell about the specific our the order was created (from 0 to 23). Using `Order Hour` create a bar chart, which will tell the total restaurant income based on the hour order was created. So on x-axis - it will be values from 0 to 23 (hours), on y-axis - it will be the total sum of order prices, which were sold on that hour.\n",
    "\n",
    "Example:\n",
    "\n",
    "![bar chart](../demo/bar.png)"
   ],
   "metadata": {
    "collapsed": false
   }
  },
  {
   "cell_type": "markdown",
   "source": [],
   "metadata": {
    "collapsed": false
   }
  },
  {
   "cell_type": "code",
   "execution_count": null,
   "outputs": [],
   "source": [
    "df[\"order_hour\"] = df[\"order_datetime\"].dt.hour\n",
    "df.groupby(\"order_hour\")[\"item_price\"].sum().plot.bar(figsize=(14, 6))"
   ],
   "metadata": {
    "collapsed": false,
    "ExecuteTime": {
     "start_time": "2023-05-10T18:35:34.941645Z",
     "end_time": "2023-05-10T18:35:35.235266Z"
    }
   }
  },
  {
   "cell_type": "markdown",
   "source": [
    "# Task 4\n",
    "Make similar bar chart, but right now with `Order Day Of The Week` (from Monday to Sunday), and also analyze total restaurant income by each day of the week."
   ],
   "metadata": {
    "collapsed": false
   }
  },
  {
   "cell_type": "code",
   "execution_count": 109,
   "outputs": [
    {
     "data": {
      "text/plain": "<Axes: xlabel='day_of_week'>"
     },
     "execution_count": 109,
     "metadata": {},
     "output_type": "execute_result"
    },
    {
     "data": {
      "text/plain": "<Figure size 1400x600 with 1 Axes>",
      "image/png": "[encoded data removed]"
     },
     "metadata": {},
     "output_type": "display_data"
    }
   ],
   "source": [
    "df[\"day_of_week\"] = df[\"order_datetime\"].dt.day_name()\n",
    "df.groupby(\"day_of_week\")[\"item_price\"].sum().plot.bar(figsize=(14, 6))"
   ],
   "metadata": {
    "collapsed": false,
    "ExecuteTime": {
     "start_time": "2023-05-10T18:38:27.944187Z",
     "end_time": "2023-05-10T18:38:28.208646Z"
    }
   }
  }
 ],
 "metadata": {
  "kernelspec": {
   "display_name": "Python 3",
   "language": "python",
   "name": "python3"
  },
  "language_info": {
   "codemirror_mode": {
    "name": "ipython",
    "version": 2
   },
   "file_extension": ".py",
   "mimetype": "text/x-python",
   "name": "python",
   "nbconvert_exporter": "python",
   "pygments_lexer": "ipython2",
   "version": "2.7.6"
  }
 },
 "nbformat": 4,
 "nbformat_minor": 0
}
